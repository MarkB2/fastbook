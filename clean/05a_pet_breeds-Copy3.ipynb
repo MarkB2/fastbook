{
 "cells": [
  {
   "cell_type": "code",
   "execution_count": null,
   "id": "d4040d56-0e57-4430-ab86-b492b44c9bfd",
   "metadata": {},
   "outputs": [],
   "source": [
    "import timm\n",
    "import gc\n",
    "import wandb\n",
    "from fastai.vision.all import *\n",
    "from fastai.callback.wandb import *\n",
    "from utils.core import *\n",
    "\n",
    "path = Path('/root/.fastai/data/oxford-iiit-pet')\n",
    "Path.BASE_PATH = path\n",
    "\n",
    "df = pd.read_csv('pets_sample.csv')"
   ]
  },
  {
   "cell_type": "code",
   "execution_count": null,
   "id": "47eda3cd-0612-40af-9c7b-26efc8503024",
   "metadata": {},
   "outputs": [],
   "source": [
    "sweep_cfg = {\n",
    "    'project': 'my_fastbook',\n",
    "    'metric': {'name': 'error_rate', 'goal': 'minimize'},\n",
    "    # 'method': 'random',\n",
    "    'method': 'bayes',\n",
    "    'parameters': {\n",
    "        'epochs': {\n",
    "            'value': 15\n",
    "        },\n",
    "        'pre_size': {\n",
    "            'value': 160,\n",
    "        },\n",
    "        'post_size': {\n",
    "            'value': 112,\n",
    "        },\n",
    "        'pre_bs': {\n",
    "            'value': 256,\n",
    "        },\n",
    "        'post_bs': {\n",
    "            'value': 192,\n",
    "        },\n",
    "        'pre_lr': {\n",
    "            'min': 1e-3,\n",
    "            'max': 1e-2\n",
    "        },\n",
    "        'pre_epoch': {\n",
    "            'values': [1,2,3],\n",
    "        },\n",
    "        'post_lr': {\n",
    "            'min': 1e-3,\n",
    "            'max': 1e-2\n",
    "        },\n",
    "        'post_div': {\n",
    "            'min': 50,\n",
    "            'max': 250\n",
    "        }\n",
    "    }\n",
    "   \n",
    "}\n",
    "\n",
    "sweep_cfg2 = {\n",
    "    'project': 'my_fastbook',\n",
    "    'metric': {'name': 'best_value', 'goal': 'minimize'},\n",
    "    # 'metric': {'name': 'error_rate', 'goal': 'minimize'},\n",
    "    # 'method': 'random',\n",
    "    'method': 'bayes',\n",
    "    'parameters': {\n",
    "        'arch': {\n",
    "            'value': 'convnext_tiny_in22k_stage0.pth'\n",
    "        },\n",
    "        'epochs': {\n",
    "            'value': 15\n",
    "        },\n",
    "        'pre_size': {\n",
    "            'value': 240,\n",
    "        },\n",
    "        'post_size': {\n",
    "            'value': 168,\n",
    "        },\n",
    "        'pre_bs': {\n",
    "            'value': 192,\n",
    "        },\n",
    "        'post_bs': {\n",
    "            'value': 96,\n",
    "        },\n",
    "        'pre_lr': {\n",
    "            'min': 5e-4,\n",
    "            'max': 5e-3\n",
    "        },\n",
    "        'pre_epoch': {\n",
    "            'values': [0,1,2],\n",
    "        },\n",
    "        'post_lr': {\n",
    "            'min': 5e-4,\n",
    "            'max': 5e-3\n",
    "        },\n",
    "        'post_div': {\n",
    "            'min': 50,\n",
    "            'max': 250\n",
    "        }\n",
    "    }\n",
    "   \n",
    "}\n",
    "\n",
    "def get_dls(item_tfms=Resize(160), \n",
    "            batch_tfms=aug_transforms(size=112), \n",
    "            valid_pct=.4,\n",
    "            bs=64):\n",
    "    return ImageDataLoaders.from_df(df, path/'images',\n",
    "                                    splitter=RandomSplitter(seed=42), \n",
    "                                    valid_pct=valid_pct,\n",
    "                                    item_tfms=item_tfms,\n",
    "                                    batch_tfms=batch_tfms,\n",
    "                                    seed=42,\n",
    "                                    bs=bs)\n",
    "\n",
    "def get_learn():\n",
    "        return vision_learner(get_dls(), arch, \n",
    "                           metrics=error_rate)\n",
    "\n",
    "arch = 'convnext_tiny_in22k'\n",
    "\n",
    "def trainer():\n",
    "    wandb.init()\n",
    "    set_seed(2022, True)\n",
    "    dls = get_dls(item_tfms=Resize(wandb.config.pre_size),\n",
    "                  batch_tfms=aug_transforms(size=wandb.config.post_size),\n",
    "                  bs=wandb.config.pre_bs)\n",
    "    learn = vision_learner(get_dls(), arch, \n",
    "                           cbs=[WandbCallback()], \n",
    "                           metrics=error_rate)\n",
    "    learn.fit_one_cycle(wandb.config.pre_epoch, lr_max=wandb.config.pre_lr)\n",
    "    learn.unfreeze()\n",
    "    learn.dls = get_dls(item_tfms=Resize(wandb.config.pre_size),\n",
    "                  batch_tfms=aug_transforms(size=wandb.config.post_size),\n",
    "                  bs=wandb.config.post_bs)\n",
    "    learn.fit_one_cycle(wandb.config.epochs - wandb.config.pre_epoch, lr_max=(wandb.config.post_lr/wandb.config.post_div, wandb.config.post_lr))\n",
    "    learn = None\n",
    "    dls = None\n",
    "    gc.collect()\n",
    "    torch.cuda.empty_cache()\n",
    "    gc.collect()\n",
    "    \n",
    "class BestValueCallback(TrackerCallback):\n",
    "    def after_epoch(self):\n",
    "        super().after_epoch()\n",
    "        if self.wandb: wandb.log({'best_value':self.best})\n",
    "        \n",
    "def trainer2(cfg={}):\n",
    "    wandb.init(config=cfg)\n",
    "    set_seed(2022, True)\n",
    "    learn = load_learner(wandb.config.arch)\n",
    "    learn.add_cbs([\n",
    "        BestValueCallback(monitor='error_rate', comp=np.less),\n",
    "        # SaveModelCallback(monitor='error_rate', comp=np.less),\n",
    "        # EarlyStoppingCallback(monitor='error_rate', comp=np.less, patience=5)\n",
    "    ])\n",
    "    if wandb.config.pre_epoch > 0:\n",
    "        learn.freeze()\n",
    "        learn.dls = get_dls(item_tfms=Resize(wandb.config.pre_size),\n",
    "                      batch_tfms=aug_transforms(size=wandb.config.post_size),\n",
    "                      bs=wandb.config.pre_bs)\n",
    "        learn.fit_one_cycle(wandb.config.pre_epoch, lr_max=wandb.config.pre_lr)\n",
    "        learn.unfreeze()\n",
    "    learn.dls = get_dls(item_tfms=Resize(wandb.config.pre_size),\n",
    "                  batch_tfms=aug_transforms(size=wandb.config.post_size),\n",
    "                  bs=wandb.config.post_bs)\n",
    "    learn.fit_one_cycle(wandb.config.epochs - wandb.config.pre_epoch, lr_max=(wandb.config.post_lr/wandb.config.post_div, wandb.config.post_lr))\n",
    "    if cfg != {}: return learn\n",
    "    learn = None\n",
    "    dls = None\n",
    "    gc.collect()\n",
    "    torch.cuda.empty_cache()\n",
    "    gc.collect()"
   ]
  },
  {
   "cell_type": "code",
   "execution_count": null,
   "id": "458b4555-b5f7-40b4-8516-3c1827ceca18",
   "metadata": {},
   "outputs": [],
   "source": [
    "dls = get_dls(item_tfms=Resize(224),\n",
    "              batch_tfms=aug_transforms(size=196),\n",
    "              bs=64)\n",
    "learn = vision_learner(get_dls(), arch, \n",
    "                       # cbs=[WandbCallback()], \n",
    "                       metrics=error_rate)\n"
   ]
  },
  {
   "cell_type": "code",
   "execution_count": null,
   "id": "cc6f8273-c2e4-40e6-9382-d1db13367f74",
   "metadata": {},
   "outputs": [],
   "source": [
    "\n",
    "# learn.summary()\n",
    "\n",
    "# Total params: 28,621,440\n",
    "# Total trainable params: 824,256\n",
    "# Total non-trainable params: 27,797,184"
   ]
  },
  {
   "cell_type": "code",
   "execution_count": null,
   "id": "c8755d83-aef1-48c4-94f8-5de4f44c8234",
   "metadata": {},
   "outputs": [],
   "source": [
    "from fastai.callback."
   ]
  },
  {
   "cell_type": "raw",
   "id": "542d7d4e-42e8-4400-ac7a-59e23b0e164f",
   "metadata": {},
   "source": []
  },
  {
   "cell_type": "code",
   "execution_count": null,
   "id": "7a6769a1-654d-4ee2-8b7f-0445d28b26bc",
   "metadata": {},
   "outputs": [],
   "source": [
    "learn.loss_func = LabelSmoothingCrossEntropyFlat()"
   ]
  },
  {
   "cell_type": "code",
   "execution_count": null,
   "id": "282629b8-0e18-489c-9212-f4df06a81ad9",
   "metadata": {},
   "outputs": [
    {
     "data": {
      "text/html": [
       "\n",
       "<style>\n",
       "    /* Turns off some styling */\n",
       "    progress {\n",
       "        /* gets rid of default border in Firefox and Opera. */\n",
       "        border: none;\n",
       "        /* Needs to be in here for Safari polyfill so background images work as expected. */\n",
       "        background-size: auto;\n",
       "    }\n",
       "    .progress-bar-interrupted, .progress-bar-interrupted::-webkit-progress-bar {\n",
       "        background: #F44336;\n",
       "    }\n",
       "</style>\n"
      ],
      "text/plain": [
       "<IPython.core.display.HTML object>"
      ]
     },
     "metadata": {},
     "output_type": "display_data"
    },
    {
     "data": {
      "text/html": [
       "<table border=\"1\" class=\"dataframe\">\n",
       "  <thead>\n",
       "    <tr style=\"text-align: left;\">\n",
       "      <th>epoch</th>\n",
       "      <th>train_loss</th>\n",
       "      <th>valid_loss</th>\n",
       "      <th>error_rate</th>\n",
       "      <th>time</th>\n",
       "    </tr>\n",
       "  </thead>\n",
       "  <tbody>\n",
       "    <tr>\n",
       "      <td>0</td>\n",
       "      <td>4.410619</td>\n",
       "      <td>4.115881</td>\n",
       "      <td>0.811512</td>\n",
       "      <td>01:01</td>\n",
       "    </tr>\n",
       "  </tbody>\n",
       "</table>"
      ],
      "text/plain": [
       "<IPython.core.display.HTML object>"
      ]
     },
     "metadata": {},
     "output_type": "display_data"
    }
   ],
   "source": [
    "learn.fit_one_cycle(1)"
   ]
  },
  {
   "cell_type": "code",
   "execution_count": null,
   "id": "29e221aa-c564-46a3-8e40-c2c3c0217078",
   "metadata": {},
   "outputs": [],
   "source": [
    "# cfg = {\n",
    "#     'project': 'my_fastbook',\n",
    "#         'epochs': 15,\n",
    "#         'pre_size': 160,\n",
    "#         'post_size': 112,\n",
    "#         'pre_bs': 256,\n",
    "#         'post_bs': 192,\n",
    "#         'pre_lr': .009463,\n",
    "#         'pre_epoch': 2,\n",
    "#         'post_lr': .005208,\n",
    "#         'post_div': 115   \n",
    "# }\n",
    "\n",
    "cfg = {\n",
    "    'project': 'my_fastbook',\n",
    "        'arch': 'convnext_tiny_in22k_stage0.pth',\n",
    "        'epochs': 15,\n",
    "        'pre_size': 160,\n",
    "        'post_size': 112,\n",
    "        'pre_bs': 256,\n",
    "        'post_bs': 192,\n",
    "        'pre_lr': .006337,\n",
    "        'pre_epoch': 2,\n",
    "        'post_lr': .008101,\n",
    "        'post_div': 202   \n",
    "}\n",
    "\n",
    "cfg = {\n",
    "    'project': 'my_fastbook',\n",
    "    'arch': 'convnext_tiny_in22k_stage0.pth',\n",
    "    'epochs': 15,\n",
    "    'pre_size': 160,\n",
    "    'post_size': 112,\n",
    "    'pre_bs': 256,\n",
    "    'post_bs': 192,\n",
    "    'pre_lr': 1e-3,\n",
    "    'pre_epoch': 2,\n",
    "    'post_lr': 1e-3,\n",
    "    'post_div': 202   \n",
    "}\n",
    "\n",
    "def runner(cfg={}):\n",
    "    wandb.init(config=cfg)\n",
    "    set_seed(2022, True)\n",
    "    dls = get_dls(item_tfms=Resize(wandb.config.pre_size),\n",
    "                  batch_tfms=aug_transforms(size=wandb.config.post_size),\n",
    "                  bs=wandb.config.pre_bs)\n",
    "    learn = vision_learner(get_dls(), arch, \n",
    "                           cbs=[WandbCallback()], \n",
    "                           metrics=error_rate)\n",
    "    learn.fit_one_cycle(wandb.config.pre_epoch, lr_max=wandb.config.pre_lr)\n",
    "    learn.unfreeze()\n",
    "    learn.dls = get_dls(item_tfms=Resize(wandb.config.pre_size),\n",
    "                  batch_tfms=aug_transforms(size=wandb.config.post_size),\n",
    "                  bs=wandb.config.post_bs)\n",
    "    learn.fit_one_cycle(wandb.config.epochs - wandb.config.pre_epoch, lr_max=(wandb.config.post_lr/wandb.config.post_div, wandb.config.post_lr))\n",
    "    learn.path = Path('.')\n",
    "    learn.export(learn.arch + '_stage0.pth')\n",
    "    \n",
    "    \n",
    "# trainer2(cfg)"
   ]
  },
  {
   "cell_type": "code",
   "execution_count": null,
   "id": "16d70452-8280-48a0-83e1-9b3f505c11b3",
   "metadata": {},
   "outputs": [
    {
     "name": "stderr",
     "output_type": "stream",
     "text": [
      "\u001b[34m\u001b[1mwandb\u001b[0m: Currently logged in as: \u001b[33mmark_b2\u001b[0m. Use \u001b[1m`wandb login --relogin`\u001b[0m to force relogin\n"
     ]
    },
    {
     "data": {
      "text/html": [
       "Tracking run with wandb version 0.13.1"
      ],
      "text/plain": [
       "<IPython.core.display.HTML object>"
      ]
     },
     "metadata": {},
     "output_type": "display_data"
    },
    {
     "data": {
      "text/html": [
       "Run data is saved locally in <code>/notebooks/fastbook/clean/wandb/run-20220817_060348-1her395a</code>"
      ],
      "text/plain": [
       "<IPython.core.display.HTML object>"
      ]
     },
     "metadata": {},
     "output_type": "display_data"
    },
    {
     "data": {
      "text/html": [
       "Syncing run <strong><a href=\"https://wandb.ai/mark_b2/fastbook-clean/runs/1her395a\" target=\"_blank\">happy-sun-16</a></strong> to <a href=\"https://wandb.ai/mark_b2/fastbook-clean\" target=\"_blank\">Weights & Biases</a> (<a href=\"https://wandb.me/run\" target=\"_blank\">docs</a>)<br/>"
      ],
      "text/plain": [
       "<IPython.core.display.HTML object>"
      ]
     },
     "metadata": {},
     "output_type": "display_data"
    },
    {
     "data": {
      "text/html": [
       "\n",
       "<style>\n",
       "    /* Turns off some styling */\n",
       "    progress {\n",
       "        /* gets rid of default border in Firefox and Opera. */\n",
       "        border: none;\n",
       "        /* Needs to be in here for Safari polyfill so background images work as expected. */\n",
       "        background-size: auto;\n",
       "    }\n",
       "    .progress-bar-interrupted, .progress-bar-interrupted::-webkit-progress-bar {\n",
       "        background: #F44336;\n",
       "    }\n",
       "</style>\n"
      ],
      "text/plain": [
       "<IPython.core.display.HTML object>"
      ]
     },
     "metadata": {},
     "output_type": "display_data"
    },
    {
     "data": {
      "text/html": [
       "<table border=\"1\" class=\"dataframe\">\n",
       "  <thead>\n",
       "    <tr style=\"text-align: left;\">\n",
       "      <th>epoch</th>\n",
       "      <th>train_loss</th>\n",
       "      <th>valid_loss</th>\n",
       "      <th>error_rate</th>\n",
       "      <th>time</th>\n",
       "    </tr>\n",
       "  </thead>\n",
       "  <tbody>\n",
       "    <tr>\n",
       "      <td>0</td>\n",
       "      <td>0.114213</td>\n",
       "      <td>0.279801</td>\n",
       "      <td>0.095937</td>\n",
       "      <td>00:40</td>\n",
       "    </tr>\n",
       "  </tbody>\n",
       "</table>"
      ],
      "text/plain": [
       "<IPython.core.display.HTML object>"
      ]
     },
     "metadata": {},
     "output_type": "display_data"
    },
    {
     "data": {
      "text/html": [
       "\n",
       "<style>\n",
       "    /* Turns off some styling */\n",
       "    progress {\n",
       "        /* gets rid of default border in Firefox and Opera. */\n",
       "        border: none;\n",
       "        /* Needs to be in here for Safari polyfill so background images work as expected. */\n",
       "        background-size: auto;\n",
       "    }\n",
       "    .progress-bar-interrupted, .progress-bar-interrupted::-webkit-progress-bar {\n",
       "        background: #F44336;\n",
       "    }\n",
       "</style>\n"
      ],
      "text/plain": [
       "<IPython.core.display.HTML object>"
      ]
     },
     "metadata": {},
     "output_type": "display_data"
    },
    {
     "data": {
      "text/html": [
       "<table border=\"1\" class=\"dataframe\">\n",
       "  <thead>\n",
       "    <tr style=\"text-align: left;\">\n",
       "      <th>epoch</th>\n",
       "      <th>train_loss</th>\n",
       "      <th>valid_loss</th>\n",
       "      <th>error_rate</th>\n",
       "      <th>time</th>\n",
       "    </tr>\n",
       "  </thead>\n",
       "  <tbody>\n",
       "    <tr>\n",
       "      <td>0</td>\n",
       "      <td>0.107344</td>\n",
       "      <td>0.257886</td>\n",
       "      <td>0.085779</td>\n",
       "      <td>01:13</td>\n",
       "    </tr>\n",
       "    <tr>\n",
       "      <td>1</td>\n",
       "      <td>0.108769</td>\n",
       "      <td>0.261317</td>\n",
       "      <td>0.084650</td>\n",
       "      <td>01:13</td>\n",
       "    </tr>\n",
       "    <tr>\n",
       "      <td>2</td>\n",
       "      <td>0.101444</td>\n",
       "      <td>0.281408</td>\n",
       "      <td>0.082393</td>\n",
       "      <td>01:13</td>\n",
       "    </tr>\n",
       "    <tr>\n",
       "      <td>3</td>\n",
       "      <td>0.095706</td>\n",
       "      <td>0.297246</td>\n",
       "      <td>0.082393</td>\n",
       "      <td>01:13</td>\n",
       "    </tr>\n",
       "    <tr>\n",
       "      <td>4</td>\n",
       "      <td>0.086904</td>\n",
       "      <td>0.278543</td>\n",
       "      <td>0.073363</td>\n",
       "      <td>01:13</td>\n",
       "    </tr>\n",
       "    <tr>\n",
       "      <td>5</td>\n",
       "      <td>0.080473</td>\n",
       "      <td>0.283839</td>\n",
       "      <td>0.073363</td>\n",
       "      <td>01:14</td>\n",
       "    </tr>\n",
       "    <tr>\n",
       "      <td>6</td>\n",
       "      <td>0.070256</td>\n",
       "      <td>0.262800</td>\n",
       "      <td>0.071106</td>\n",
       "      <td>01:13</td>\n",
       "    </tr>\n",
       "    <tr>\n",
       "      <td>7</td>\n",
       "      <td>0.064559</td>\n",
       "      <td>0.265043</td>\n",
       "      <td>0.069977</td>\n",
       "      <td>01:13</td>\n",
       "    </tr>\n",
       "    <tr>\n",
       "      <td>8</td>\n",
       "      <td>0.056021</td>\n",
       "      <td>0.280601</td>\n",
       "      <td>0.073363</td>\n",
       "      <td>01:13</td>\n",
       "    </tr>\n",
       "    <tr>\n",
       "      <td>9</td>\n",
       "      <td>0.050752</td>\n",
       "      <td>0.260225</td>\n",
       "      <td>0.071106</td>\n",
       "      <td>01:13</td>\n",
       "    </tr>\n",
       "    <tr>\n",
       "      <td>10</td>\n",
       "      <td>0.045635</td>\n",
       "      <td>0.247770</td>\n",
       "      <td>0.065463</td>\n",
       "      <td>01:14</td>\n",
       "    </tr>\n",
       "    <tr>\n",
       "      <td>11</td>\n",
       "      <td>0.041859</td>\n",
       "      <td>0.243524</td>\n",
       "      <td>0.064334</td>\n",
       "      <td>01:14</td>\n",
       "    </tr>\n",
       "    <tr>\n",
       "      <td>12</td>\n",
       "      <td>0.038100</td>\n",
       "      <td>0.239986</td>\n",
       "      <td>0.065463</td>\n",
       "      <td>01:13</td>\n",
       "    </tr>\n",
       "    <tr>\n",
       "      <td>13</td>\n",
       "      <td>0.034734</td>\n",
       "      <td>0.241127</td>\n",
       "      <td>0.063205</td>\n",
       "      <td>01:13</td>\n",
       "    </tr>\n",
       "  </tbody>\n",
       "</table>"
      ],
      "text/plain": [
       "<IPython.core.display.HTML object>"
      ]
     },
     "metadata": {},
     "output_type": "display_data"
    }
   ],
   "source": [
    "cfg1 = {\n",
    "    'project': 'my_fastbook',\n",
    "        'epochs': 15,\n",
    "        'pre_size': 240,\n",
    "        'post_size': 168,\n",
    "        'pre_bs': 192,\n",
    "        'post_bs': 96,\n",
    "        'pre_lr': .001,\n",
    "        'pre_epoch': 1,\n",
    "        'post_lr': .002,\n",
    "        'post_div': 100   \n",
    "}\n",
    "\n",
    "def runner1(cfg={}):\n",
    "    wandb.init(config=cfg)\n",
    "    set_seed(2022, True)\n",
    "    learn = load_learner('convnext_tiny_in22k_stage0.pth')\n",
    "    learn.dls = get_dls(item_tfms=Resize(wandb.config.pre_size),\n",
    "                  batch_tfms=aug_transforms(size=wandb.config.post_size),\n",
    "                  bs=wandb.config.pre_bs)\n",
    "    learn.freeze()\n",
    "    learn.fit_one_cycle(wandb.config.pre_epoch, lr_max=wandb.config.pre_lr)\n",
    "    learn.unfreeze()\n",
    "    learn.dls = get_dls(item_tfms=Resize(wandb.config.pre_size),\n",
    "                  batch_tfms=aug_transforms(size=wandb.config.post_size),\n",
    "                  bs=wandb.config.post_bs)\n",
    "    learn.fit_one_cycle(wandb.config.epochs - wandb.config.pre_epoch, lr_max=(wandb.config.post_lr/wandb.config.post_div, wandb.config.post_lr))\n",
    "    learn.path = Path('.')\n",
    "    learn.export(learn.arch + '_stage1.pth')\n",
    "    \n",
    "runner1(cfg1)"
   ]
  },
  {
   "cell_type": "code",
   "execution_count": null,
   "id": "dacbbf97-eb98-40ef-ab32-5b84f8897b6e",
   "metadata": {},
   "outputs": [
    {
     "name": "stderr",
     "output_type": "stream",
     "text": [
      "\u001b[34m\u001b[1mwandb\u001b[0m: Currently logged in as: \u001b[33mmark_b2\u001b[0m. Use \u001b[1m`wandb login --relogin`\u001b[0m to force relogin\n"
     ]
    },
    {
     "data": {
      "text/html": [
       "Tracking run with wandb version 0.13.1"
      ],
      "text/plain": [
       "<IPython.core.display.HTML object>"
      ]
     },
     "metadata": {},
     "output_type": "display_data"
    },
    {
     "data": {
      "text/html": [
       "Run data is saved locally in <code>/notebooks/fastbook/clean/wandb/run-20220817_113705-35j4hh7i</code>"
      ],
      "text/plain": [
       "<IPython.core.display.HTML object>"
      ]
     },
     "metadata": {},
     "output_type": "display_data"
    },
    {
     "data": {
      "text/html": [
       "Syncing run <strong><a href=\"https://wandb.ai/mark_b2/fastbook-clean/runs/35j4hh7i\" target=\"_blank\">sage-water-17</a></strong> to <a href=\"https://wandb.ai/mark_b2/fastbook-clean\" target=\"_blank\">Weights & Biases</a> (<a href=\"https://wandb.me/run\" target=\"_blank\">docs</a>)<br/>"
      ],
      "text/plain": [
       "<IPython.core.display.HTML object>"
      ]
     },
     "metadata": {},
     "output_type": "display_data"
    },
    {
     "data": {
      "text/html": [
       "\n",
       "<style>\n",
       "    /* Turns off some styling */\n",
       "    progress {\n",
       "        /* gets rid of default border in Firefox and Opera. */\n",
       "        border: none;\n",
       "        /* Needs to be in here for Safari polyfill so background images work as expected. */\n",
       "        background-size: auto;\n",
       "    }\n",
       "    .progress-bar-interrupted, .progress-bar-interrupted::-webkit-progress-bar {\n",
       "        background: #F44336;\n",
       "    }\n",
       "</style>\n"
      ],
      "text/plain": [
       "<IPython.core.display.HTML object>"
      ]
     },
     "metadata": {},
     "output_type": "display_data"
    },
    {
     "data": {
      "text/html": [
       "<table border=\"1\" class=\"dataframe\">\n",
       "  <thead>\n",
       "    <tr style=\"text-align: left;\">\n",
       "      <th>epoch</th>\n",
       "      <th>train_loss</th>\n",
       "      <th>valid_loss</th>\n",
       "      <th>error_rate</th>\n",
       "      <th>time</th>\n",
       "    </tr>\n",
       "  </thead>\n",
       "  <tbody>\n",
       "    <tr>\n",
       "      <td>0</td>\n",
       "      <td>0.114213</td>\n",
       "      <td>0.279801</td>\n",
       "      <td>0.095937</td>\n",
       "      <td>00:41</td>\n",
       "    </tr>\n",
       "  </tbody>\n",
       "</table>"
      ],
      "text/plain": [
       "<IPython.core.display.HTML object>"
      ]
     },
     "metadata": {},
     "output_type": "display_data"
    },
    {
     "name": "stdout",
     "output_type": "stream",
     "text": [
      "Better model found at epoch 0 with error_rate value: 0.09593677520751953.\n"
     ]
    },
    {
     "data": {
      "text/html": [
       "\n",
       "<style>\n",
       "    /* Turns off some styling */\n",
       "    progress {\n",
       "        /* gets rid of default border in Firefox and Opera. */\n",
       "        border: none;\n",
       "        /* Needs to be in here for Safari polyfill so background images work as expected. */\n",
       "        background-size: auto;\n",
       "    }\n",
       "    .progress-bar-interrupted, .progress-bar-interrupted::-webkit-progress-bar {\n",
       "        background: #F44336;\n",
       "    }\n",
       "</style>\n"
      ],
      "text/plain": [
       "<IPython.core.display.HTML object>"
      ]
     },
     "metadata": {},
     "output_type": "display_data"
    },
    {
     "data": {
      "text/html": [
       "<table border=\"1\" class=\"dataframe\">\n",
       "  <thead>\n",
       "    <tr style=\"text-align: left;\">\n",
       "      <th>epoch</th>\n",
       "      <th>train_loss</th>\n",
       "      <th>valid_loss</th>\n",
       "      <th>error_rate</th>\n",
       "      <th>time</th>\n",
       "    </tr>\n",
       "  </thead>\n",
       "  <tbody>\n",
       "    <tr>\n",
       "      <td>0</td>\n",
       "      <td>0.107944</td>\n",
       "      <td>0.292404</td>\n",
       "      <td>0.097065</td>\n",
       "      <td>01:11</td>\n",
       "    </tr>\n",
       "  </tbody>\n",
       "</table>"
      ],
      "text/plain": [
       "<IPython.core.display.HTML object>"
      ]
     },
     "metadata": {},
     "output_type": "display_data"
    },
    {
     "name": "stdout",
     "output_type": "stream",
     "text": [
      "Better model found at epoch 0 with error_rate value: 0.09706544876098633.\n"
     ]
    }
   ],
   "source": [
    "cfg2 = {\n",
    "    'project': 'my_fastbook',\n",
    "    'arch': 'convnext_tiny_in22k_stage0.pth',\n",
    "    'epochs': 2, #15,\n",
    "    'pre_size': 240,\n",
    "    'post_size': 168,\n",
    "    'pre_bs': 192,\n",
    "    'post_bs': 96,\n",
    "    'pre_lr': .001,\n",
    "    'pre_epoch': 1,\n",
    "    'post_lr': .002,\n",
    "    'post_div': 100  \n",
    "}\n",
    "\n",
    "learn = trainer2(cfg2)\n",
    "# learn.path = Path('.')\n",
    "# learn.export(learn.arch + '_stage1.pth')"
   ]
  },
  {
   "cell_type": "code",
   "execution_count": null,
   "id": "7a2eeaed-7a54-4351-bfa5-52e53114c613",
   "metadata": {},
   "outputs": [],
   "source": [
    "sweep_cfg3 = {\n",
    "    'project': 'my_fastbook',\n",
    "    'metric': {'name': 'best_value', 'goal': 'minimize'},\n",
    "    # 'metric': {'name': 'error_rate', 'goal': 'minimize'},\n",
    "    'method': 'bayes',\n",
    "    'parameters': {\n",
    "        'arch': {\n",
    "            'value': 'convnext_tiny_in22k_stage1.pth'\n",
    "        },\n",
    "        'epochs': {\n",
    "            'value': 15\n",
    "        },\n",
    "        'pre_size': {\n",
    "            'value': 320,\n",
    "        },\n",
    "        'post_size': {\n",
    "            'value': 224,\n",
    "        },\n",
    "        'pre_bs': {\n",
    "            'value': 64,\n",
    "        },\n",
    "        'post_bs': {\n",
    "            'value': 32,\n",
    "        },\n",
    "        'pre_lr': {\n",
    "            'min': 5e-4,\n",
    "            'max': 2e-3\n",
    "        },\n",
    "        'pre_epoch': {\n",
    "            'values': [0,1,2],\n",
    "        },\n",
    "        'post_lr': {\n",
    "            'min': 5e-4,\n",
    "            'max': 2e-3\n",
    "        },\n",
    "        'post_div': {\n",
    "            'min': 50,\n",
    "            'max': 250\n",
    "        }\n",
    "    }\n",
    "   \n",
    "}\n",
    "\n",
    "# sweep_id = wandb.sweep(sweep_cfg3)\n",
    "sweep_id = 'mybku6li'"
   ]
  },
  {
   "cell_type": "code",
   "execution_count": null,
   "id": "41197fbe-34a3-49a2-854d-737901f22322",
   "metadata": {},
   "outputs": [],
   "source": [
    "sweep_cfg4 = {\n",
    "    'project': 'my_fastbook',\n",
    "    'metric': {'name': 'best_value', 'goal': 'minimize'},\n",
    "    # 'metric': {'name': 'error_rate', 'goal': 'minimize'},\n",
    "    'method': 'bayes',\n",
    "    'parameters': {\n",
    "        'arch': {\n",
    "            'value': 'convnext_tiny_in22k_stage0.pth'\n",
    "        },\n",
    "        'epochs': {\n",
    "            'value': 20\n",
    "        },\n",
    "        'pre_size': {\n",
    "            'value': 320,\n",
    "        },\n",
    "        'post_size': {\n",
    "            'value': 224,\n",
    "        },\n",
    "        'pre_bs': {\n",
    "            'value': 64,\n",
    "        },\n",
    "        'post_bs': {\n",
    "            'value': 32,\n",
    "        },\n",
    "        'pre_lr': {\n",
    "            'min': 5e-4,\n",
    "            'max': 2e-3\n",
    "        },\n",
    "        'pre_epoch': {\n",
    "            'value': 2,\n",
    "        },\n",
    "        'post_lr': {\n",
    "            'min': 5e-4,\n",
    "            'max': 2e-3\n",
    "        },\n",
    "        'post_div': {\n",
    "            'min': 50,\n",
    "            'max': 250\n",
    "        }\n",
    "    }\n",
    "   \n",
    "}\n",
    "\n",
    "# sweep_id = wandb.sweep(sweep_cfg4)\n",
    "sweep_id = 'uiujoqnj'"
   ]
  },
  {
   "cell_type": "code",
   "execution_count": null,
   "id": "a69dcc2c-eca2-43bf-a4f1-b43ec81e0f8b",
   "metadata": {},
   "outputs": [
    {
     "name": "stderr",
     "output_type": "stream",
     "text": [
      "\u001b[34m\u001b[1mwandb\u001b[0m: Agent Starting Run: iehbeh2e with config:\n",
      "\u001b[34m\u001b[1mwandb\u001b[0m: \tarch: convnext_tiny_in22k_stage0.pth\n",
      "\u001b[34m\u001b[1mwandb\u001b[0m: \tepochs: 20\n",
      "\u001b[34m\u001b[1mwandb\u001b[0m: \tpost_bs: 32\n",
      "\u001b[34m\u001b[1mwandb\u001b[0m: \tpost_div: 176\n",
      "\u001b[34m\u001b[1mwandb\u001b[0m: \tpost_lr: 0.001627195427941712\n",
      "\u001b[34m\u001b[1mwandb\u001b[0m: \tpost_size: 224\n",
      "\u001b[34m\u001b[1mwandb\u001b[0m: \tpre_bs: 64\n",
      "\u001b[34m\u001b[1mwandb\u001b[0m: \tpre_epoch: 2\n",
      "\u001b[34m\u001b[1mwandb\u001b[0m: \tpre_lr: 0.0015881240598632238\n",
      "\u001b[34m\u001b[1mwandb\u001b[0m: \tpre_size: 320\n",
      "\u001b[34m\u001b[1mwandb\u001b[0m: Currently logged in as: \u001b[33mmark_b2\u001b[0m. Use \u001b[1m`wandb login --relogin`\u001b[0m to force relogin\n"
     ]
    },
    {
     "data": {
      "text/html": [
       "wandb version 0.13.2 is available!  To upgrade, please run:\n",
       " $ pip install wandb --upgrade"
      ],
      "text/plain": [
       "<IPython.core.display.HTML object>"
      ]
     },
     "metadata": {},
     "output_type": "display_data"
    },
    {
     "data": {
      "text/html": [
       "Tracking run with wandb version 0.13.1"
      ],
      "text/plain": [
       "<IPython.core.display.HTML object>"
      ]
     },
     "metadata": {},
     "output_type": "display_data"
    },
    {
     "data": {
      "text/html": [
       "Run data is saved locally in <code>/notebooks/fastbook/clean/wandb/run-20220823_091830-iehbeh2e</code>"
      ],
      "text/plain": [
       "<IPython.core.display.HTML object>"
      ]
     },
     "metadata": {},
     "output_type": "display_data"
    },
    {
     "data": {
      "text/html": [
       "Syncing run <strong><a href=\"https://wandb.ai/mark_b2/my_fastbook/runs/iehbeh2e\" target=\"_blank\">dutiful-sweep-10</a></strong> to <a href=\"https://wandb.ai/mark_b2/my_fastbook\" target=\"_blank\">Weights & Biases</a> (<a href=\"https://wandb.me/run\" target=\"_blank\">docs</a>)<br/>Sweep page:  <a href=\"https://wandb.ai/mark_b2/my_fastbook/sweeps/uiujoqnj\" target=\"_blank\">https://wandb.ai/mark_b2/my_fastbook/sweeps/uiujoqnj</a>"
      ],
      "text/plain": [
       "<IPython.core.display.HTML object>"
      ]
     },
     "metadata": {},
     "output_type": "display_data"
    },
    {
     "data": {
      "text/html": [
       "\n",
       "<style>\n",
       "    /* Turns off some styling */\n",
       "    progress {\n",
       "        /* gets rid of default border in Firefox and Opera. */\n",
       "        border: none;\n",
       "        /* Needs to be in here for Safari polyfill so background images work as expected. */\n",
       "        background-size: auto;\n",
       "    }\n",
       "    .progress-bar-interrupted, .progress-bar-interrupted::-webkit-progress-bar {\n",
       "        background: #F44336;\n",
       "    }\n",
       "</style>\n"
      ],
      "text/plain": [
       "<IPython.core.display.HTML object>"
      ]
     },
     "metadata": {},
     "output_type": "display_data"
    },
    {
     "data": {
      "text/html": [
       "<table border=\"1\" class=\"dataframe\">\n",
       "  <thead>\n",
       "    <tr style=\"text-align: left;\">\n",
       "      <th>epoch</th>\n",
       "      <th>train_loss</th>\n",
       "      <th>valid_loss</th>\n",
       "      <th>error_rate</th>\n",
       "      <th>time</th>\n",
       "    </tr>\n",
       "  </thead>\n",
       "  <tbody>\n",
       "    <tr>\n",
       "      <td>0</td>\n",
       "      <td>0.189130</td>\n",
       "      <td>0.269322</td>\n",
       "      <td>0.088036</td>\n",
       "      <td>01:11</td>\n",
       "    </tr>\n",
       "    <tr>\n",
       "      <td>1</td>\n",
       "      <td>0.152907</td>\n",
       "      <td>0.234473</td>\n",
       "      <td>0.067720</td>\n",
       "      <td>01:10</td>\n",
       "    </tr>\n",
       "  </tbody>\n",
       "</table>"
      ],
      "text/plain": [
       "<IPython.core.display.HTML object>"
      ]
     },
     "metadata": {},
     "output_type": "display_data"
    },
    {
     "data": {
      "text/html": [
       "\n",
       "<style>\n",
       "    /* Turns off some styling */\n",
       "    progress {\n",
       "        /* gets rid of default border in Firefox and Opera. */\n",
       "        border: none;\n",
       "        /* Needs to be in here for Safari polyfill so background images work as expected. */\n",
       "        background-size: auto;\n",
       "    }\n",
       "    .progress-bar-interrupted, .progress-bar-interrupted::-webkit-progress-bar {\n",
       "        background: #F44336;\n",
       "    }\n",
       "</style>\n"
      ],
      "text/plain": [
       "<IPython.core.display.HTML object>"
      ]
     },
     "metadata": {},
     "output_type": "display_data"
    },
    {
     "data": {
      "text/html": [
       "<table border=\"1\" class=\"dataframe\">\n",
       "  <thead>\n",
       "    <tr style=\"text-align: left;\">\n",
       "      <th>epoch</th>\n",
       "      <th>train_loss</th>\n",
       "      <th>valid_loss</th>\n",
       "      <th>error_rate</th>\n",
       "      <th>time</th>\n",
       "    </tr>\n",
       "  </thead>\n",
       "  <tbody>\n",
       "    <tr>\n",
       "      <td>0</td>\n",
       "      <td>0.105973</td>\n",
       "      <td>0.219803</td>\n",
       "      <td>0.064334</td>\n",
       "      <td>02:07</td>\n",
       "    </tr>\n",
       "    <tr>\n",
       "      <td>1</td>\n",
       "      <td>0.105732</td>\n",
       "      <td>0.219498</td>\n",
       "      <td>0.064334</td>\n",
       "      <td>02:08</td>\n",
       "    </tr>\n",
       "    <tr>\n",
       "      <td>2</td>\n",
       "      <td>0.090679</td>\n",
       "      <td>0.240473</td>\n",
       "      <td>0.073363</td>\n",
       "      <td>02:08</td>\n",
       "    </tr>\n",
       "    <tr>\n",
       "      <td>3</td>\n",
       "      <td>0.094098</td>\n",
       "      <td>0.245685</td>\n",
       "      <td>0.075621</td>\n",
       "      <td>02:08</td>\n",
       "    </tr>\n",
       "    <tr>\n",
       "      <td>4</td>\n",
       "      <td>0.084092</td>\n",
       "      <td>0.214530</td>\n",
       "      <td>0.059819</td>\n",
       "      <td>02:08</td>\n",
       "    </tr>\n",
       "    <tr>\n",
       "      <td>5</td>\n",
       "      <td>0.085020</td>\n",
       "      <td>0.225323</td>\n",
       "      <td>0.064334</td>\n",
       "      <td>02:08</td>\n",
       "    </tr>\n",
       "    <tr>\n",
       "      <td>6</td>\n",
       "      <td>0.066543</td>\n",
       "      <td>0.258406</td>\n",
       "      <td>0.065463</td>\n",
       "      <td>02:08</td>\n",
       "    </tr>\n",
       "    <tr>\n",
       "      <td>7</td>\n",
       "      <td>0.081962</td>\n",
       "      <td>0.213072</td>\n",
       "      <td>0.050790</td>\n",
       "      <td>02:08</td>\n",
       "    </tr>\n",
       "    <tr>\n",
       "      <td>8</td>\n",
       "      <td>0.065278</td>\n",
       "      <td>0.215813</td>\n",
       "      <td>0.057562</td>\n",
       "      <td>02:08</td>\n",
       "    </tr>\n",
       "    <tr>\n",
       "      <td>9</td>\n",
       "      <td>0.052494</td>\n",
       "      <td>0.206653</td>\n",
       "      <td>0.051919</td>\n",
       "      <td>02:07</td>\n",
       "    </tr>\n",
       "    <tr>\n",
       "      <td>10</td>\n",
       "      <td>0.041579</td>\n",
       "      <td>0.219899</td>\n",
       "      <td>0.062077</td>\n",
       "      <td>02:07</td>\n",
       "    </tr>\n",
       "    <tr>\n",
       "      <td>11</td>\n",
       "      <td>0.033937</td>\n",
       "      <td>0.242810</td>\n",
       "      <td>0.065463</td>\n",
       "      <td>02:08</td>\n",
       "    </tr>\n",
       "    <tr>\n",
       "      <td>12</td>\n",
       "      <td>0.034875</td>\n",
       "      <td>0.226747</td>\n",
       "      <td>0.059819</td>\n",
       "      <td>02:08</td>\n",
       "    </tr>\n",
       "    <tr>\n",
       "      <td>13</td>\n",
       "      <td>0.031856</td>\n",
       "      <td>0.210982</td>\n",
       "      <td>0.054176</td>\n",
       "      <td>02:08</td>\n",
       "    </tr>\n",
       "    <tr>\n",
       "      <td>14</td>\n",
       "      <td>0.029056</td>\n",
       "      <td>0.207574</td>\n",
       "      <td>0.060948</td>\n",
       "      <td>02:08</td>\n",
       "    </tr>\n",
       "    <tr>\n",
       "      <td>15</td>\n",
       "      <td>0.024472</td>\n",
       "      <td>0.205459</td>\n",
       "      <td>0.055305</td>\n",
       "      <td>02:08</td>\n",
       "    </tr>\n",
       "    <tr>\n",
       "      <td>16</td>\n",
       "      <td>0.019453</td>\n",
       "      <td>0.205385</td>\n",
       "      <td>0.058691</td>\n",
       "      <td>02:08</td>\n",
       "    </tr>\n",
       "    <tr>\n",
       "      <td>17</td>\n",
       "      <td>0.019357</td>\n",
       "      <td>0.211208</td>\n",
       "      <td>0.056433</td>\n",
       "      <td>02:08</td>\n",
       "    </tr>\n",
       "  </tbody>\n",
       "</table>"
      ],
      "text/plain": [
       "<IPython.core.display.HTML object>"
      ]
     },
     "metadata": {},
     "output_type": "display_data"
    },
    {
     "data": {
      "text/html": [
       "Waiting for W&B process to finish... <strong style=\"color:green\">(success).</strong>"
      ],
      "text/plain": [
       "<IPython.core.display.HTML object>"
      ]
     },
     "metadata": {},
     "output_type": "display_data"
    },
    {
     "data": {
      "application/vnd.jupyter.widget-view+json": {
       "model_id": "",
       "version_major": 2,
       "version_minor": 0
      },
      "text/plain": [
       "VBox(children=(Label(value='0.801 MB of 0.801 MB uploaded (0.780 MB deduped)\\r'), FloatProgress(value=1.0, max…"
      ]
     },
     "metadata": {},
     "output_type": "display_data"
    },
    {
     "data": {
      "text/html": [
       "W&B sync reduced upload amount by 96.4%             "
      ],
      "text/plain": [
       "<IPython.core.display.HTML object>"
      ]
     },
     "metadata": {},
     "output_type": "display_data"
    },
    {
     "data": {
      "text/html": [
       "<style>\n",
       "    table.wandb td:nth-child(1) { padding: 0 10px; text-align: left ; width: auto;} td:nth-child(2) {text-align: left ; width: 100%}\n",
       "    .wandb-row { display: flex; flex-direction: row; flex-wrap: wrap; justify-content: flex-start; width: 100% }\n",
       "    .wandb-col { display: flex; flex-direction: column; flex-basis: 100%; flex: 1; padding: 10px; }\n",
       "    </style>\n",
       "<div class=\"wandb-row\"><div class=\"wandb-col\"><h3>Run history:</h3><br/><table class=\"wandb\"><tr><td>best_value</td><td>█▄▄▄▄▄▃▃▃▁▁▁▁▁▁▁▁▁▁▁</td></tr><tr><td>epoch</td><td>▁▁▂▂▂▂▂▂▃▃▃▃▃▄▄▄▄▄▄▅▅▅▅▅▅▆▆▆▆▆▆▇▇▇▇▇▇███</td></tr><tr><td>eps_0</td><td>▁▁▁▁▁▁▁▁▁▁▁▁▁▁▁▁▁▁▁▁▁▁▁▁▁▁▁▁▁▁▁▁▁▁▁▁▁▁▁▁</td></tr><tr><td>eps_1</td><td>▁▁▁▁▁▁▁▁▁▁▁▁▁▁▁▁▁▁▁▁▁▁▁▁▁▁▁▁▁▁▁▁▁▁▁▁▁▁▁▁</td></tr><tr><td>error_rate</td><td>█▄▄▄▅▆▃▄▄▁▂▁▃▄▃▂▃▂▂▂</td></tr><tr><td>lr_0</td><td>█▆▁▁▁▁▁▁▁▁▁▁▁▁▁▁▁▁▁▁▁▁▁▁▁▁▁▁▁▁▁▁▁▁▁▁▁▁▁▁</td></tr><tr><td>lr_1</td><td>▆▅▁▂▂▃▄▅▆▇███████▇▇▇▆▆▆▅▅▅▄▄▄▃▃▂▂▂▂▁▁▁▁▁</td></tr><tr><td>mom_0</td><td>▂▄██▇▆▅▄▃▂▁▁▁▁▁▁▁▂▂▂▃▃▃▄▄▄▅▅▅▆▆▇▇▇▇█████</td></tr><tr><td>mom_1</td><td>▂▄██▇▆▅▄▃▂▁▁▁▁▁▁▁▂▂▂▃▃▃▄▄▄▅▅▅▆▆▇▇▇▇█████</td></tr><tr><td>raw_loss</td><td>▅▅█▆▂█▇▂▂▂▃▂▅▂▆▃▁▁▂▁▆▁▁▂▁▁▃▁▁▄▁▁▂▂▁▃▁▁▂▁</td></tr><tr><td>sqr_mom_0</td><td>▁▁▁▁▁▁▁▁▁▁▁▁▁▁▁▁▁▁▁▁▁▁▁▁▁▁▁▁▁▁▁▁▁▁▁▁▁▁▁▁</td></tr><tr><td>sqr_mom_1</td><td>▁▁▁▁▁▁▁▁▁▁▁▁▁▁▁▁▁▁▁▁▁▁▁▁▁▁▁▁▁▁▁▁▁▁▁▁▁▁▁▁</td></tr><tr><td>train_loss</td><td>█▆▅▄▄▄▄▃▃▃▃▃▃▃▃▃▃▂▃▃▃▂▂▂▂▂▁▁▁▂▂▁▁▁▁▁▁▁▁▁</td></tr><tr><td>train_samples_per_sec</td><td>███▁▁▁▁▁▁▁▁▁▁▁▁▁▁▁▁▁▁▁▁▁▁▁▁▁▁▁▁▁▁▁▁▁▁▁▁▁</td></tr><tr><td>valid_loss</td><td>█▄▃▃▅▅▂▃▇▂▂▁▃▅▃▂▁▁▁▂</td></tr><tr><td>wd_0</td><td>▁▁▁▁▁▁▁▁▁▁▁▁▁▁▁▁▁▁▁▁▁▁▁▁▁▁▁▁▁▁▁▁▁▁▁▁▁▁▁▁</td></tr><tr><td>wd_1</td><td>▁▁▁▁▁▁▁▁▁▁▁▁▁▁▁▁▁▁▁▁▁▁▁▁▁▁▁▁▁▁▁▁▁▁▁▁▁▁▁▁</td></tr></table><br/></div><div class=\"wandb-col\"><h3>Run summary:</h3><br/><table class=\"wandb\"><tr><td>best_value</td><td>0.05079</td></tr><tr><td>epoch</td><td>20</td></tr><tr><td>eps_0</td><td>1e-05</td></tr><tr><td>eps_1</td><td>1e-05</td></tr><tr><td>error_rate</td><td>0.05643</td></tr><tr><td>lr_0</td><td>0.0</td></tr><tr><td>lr_1</td><td>0.0</td></tr><tr><td>mom_0</td><td>0.95</td></tr><tr><td>mom_1</td><td>0.95</td></tr><tr><td>raw_loss</td><td>0.00129</td></tr><tr><td>sqr_mom_0</td><td>0.99</td></tr><tr><td>sqr_mom_1</td><td>0.99</td></tr><tr><td>train_loss</td><td>0.01936</td></tr><tr><td>train_samples_per_sec</td><td>12.33487</td></tr><tr><td>valid_loss</td><td>0.21121</td></tr><tr><td>wd_0</td><td>0.01</td></tr><tr><td>wd_1</td><td>0.01</td></tr></table><br/></div></div>"
      ],
      "text/plain": [
       "<IPython.core.display.HTML object>"
      ]
     },
     "metadata": {},
     "output_type": "display_data"
    },
    {
     "data": {
      "text/html": [
       "Synced <strong style=\"color:#cdcd00\">dutiful-sweep-10</strong>: <a href=\"https://wandb.ai/mark_b2/my_fastbook/runs/iehbeh2e\" target=\"_blank\">https://wandb.ai/mark_b2/my_fastbook/runs/iehbeh2e</a><br/>Synced 4 W&B file(s), 2 media file(s), 38 artifact file(s) and 0 other file(s)"
      ],
      "text/plain": [
       "<IPython.core.display.HTML object>"
      ]
     },
     "metadata": {},
     "output_type": "display_data"
    },
    {
     "data": {
      "text/html": [
       "Find logs at: <code>./wandb/run-20220823_091830-iehbeh2e/logs</code>"
      ],
      "text/plain": [
       "<IPython.core.display.HTML object>"
      ]
     },
     "metadata": {},
     "output_type": "display_data"
    },
    {
     "name": "stderr",
     "output_type": "stream",
     "text": [
      "\u001b[34m\u001b[1mwandb\u001b[0m: Agent Starting Run: maocwvq0 with config:\n",
      "\u001b[34m\u001b[1mwandb\u001b[0m: \tarch: convnext_tiny_in22k_stage0.pth\n",
      "\u001b[34m\u001b[1mwandb\u001b[0m: \tepochs: 20\n",
      "\u001b[34m\u001b[1mwandb\u001b[0m: \tpost_bs: 32\n",
      "\u001b[34m\u001b[1mwandb\u001b[0m: \tpost_div: 66\n",
      "\u001b[34m\u001b[1mwandb\u001b[0m: \tpost_lr: 0.0012772479440252417\n",
      "\u001b[34m\u001b[1mwandb\u001b[0m: \tpost_size: 224\n",
      "\u001b[34m\u001b[1mwandb\u001b[0m: \tpre_bs: 64\n",
      "\u001b[34m\u001b[1mwandb\u001b[0m: \tpre_epoch: 2\n",
      "\u001b[34m\u001b[1mwandb\u001b[0m: \tpre_lr: 0.0018069140315712863\n",
      "\u001b[34m\u001b[1mwandb\u001b[0m: \tpre_size: 320\n"
     ]
    },
    {
     "data": {
      "text/html": [
       "wandb version 0.13.2 is available!  To upgrade, please run:\n",
       " $ pip install wandb --upgrade"
      ],
      "text/plain": [
       "<IPython.core.display.HTML object>"
      ]
     },
     "metadata": {},
     "output_type": "display_data"
    },
    {
     "data": {
      "text/html": [
       "Tracking run with wandb version 0.13.1"
      ],
      "text/plain": [
       "<IPython.core.display.HTML object>"
      ]
     },
     "metadata": {},
     "output_type": "display_data"
    },
    {
     "data": {
      "text/html": [
       "Run data is saved locally in <code>/notebooks/fastbook/clean/wandb/run-20220823_095937-maocwvq0</code>"
      ],
      "text/plain": [
       "<IPython.core.display.HTML object>"
      ]
     },
     "metadata": {},
     "output_type": "display_data"
    },
    {
     "data": {
      "text/html": [
       "Syncing run <strong><a href=\"https://wandb.ai/mark_b2/my_fastbook/runs/maocwvq0\" target=\"_blank\">dutiful-sweep-11</a></strong> to <a href=\"https://wandb.ai/mark_b2/my_fastbook\" target=\"_blank\">Weights & Biases</a> (<a href=\"https://wandb.me/run\" target=\"_blank\">docs</a>)<br/>Sweep page:  <a href=\"https://wandb.ai/mark_b2/my_fastbook/sweeps/uiujoqnj\" target=\"_blank\">https://wandb.ai/mark_b2/my_fastbook/sweeps/uiujoqnj</a>"
      ],
      "text/plain": [
       "<IPython.core.display.HTML object>"
      ]
     },
     "metadata": {},
     "output_type": "display_data"
    },
    {
     "data": {
      "text/html": [
       "\n",
       "<style>\n",
       "    /* Turns off some styling */\n",
       "    progress {\n",
       "        /* gets rid of default border in Firefox and Opera. */\n",
       "        border: none;\n",
       "        /* Needs to be in here for Safari polyfill so background images work as expected. */\n",
       "        background-size: auto;\n",
       "    }\n",
       "    .progress-bar-interrupted, .progress-bar-interrupted::-webkit-progress-bar {\n",
       "        background: #F44336;\n",
       "    }\n",
       "</style>\n"
      ],
      "text/plain": [
       "<IPython.core.display.HTML object>"
      ]
     },
     "metadata": {},
     "output_type": "display_data"
    },
    {
     "data": {
      "text/html": [
       "<table border=\"1\" class=\"dataframe\">\n",
       "  <thead>\n",
       "    <tr style=\"text-align: left;\">\n",
       "      <th>epoch</th>\n",
       "      <th>train_loss</th>\n",
       "      <th>valid_loss</th>\n",
       "      <th>error_rate</th>\n",
       "      <th>time</th>\n",
       "    </tr>\n",
       "  </thead>\n",
       "  <tbody>\n",
       "    <tr>\n",
       "      <td>0</td>\n",
       "      <td>0.189682</td>\n",
       "      <td>0.280215</td>\n",
       "      <td>0.094808</td>\n",
       "      <td>01:10</td>\n",
       "    </tr>\n",
       "    <tr>\n",
       "      <td>1</td>\n",
       "      <td>0.151979</td>\n",
       "      <td>0.236049</td>\n",
       "      <td>0.069977</td>\n",
       "      <td>01:09</td>\n",
       "    </tr>\n",
       "  </tbody>\n",
       "</table>"
      ],
      "text/plain": [
       "<IPython.core.display.HTML object>"
      ]
     },
     "metadata": {},
     "output_type": "display_data"
    },
    {
     "data": {
      "text/html": [
       "\n",
       "<style>\n",
       "    /* Turns off some styling */\n",
       "    progress {\n",
       "        /* gets rid of default border in Firefox and Opera. */\n",
       "        border: none;\n",
       "        /* Needs to be in here for Safari polyfill so background images work as expected. */\n",
       "        background-size: auto;\n",
       "    }\n",
       "    .progress-bar-interrupted, .progress-bar-interrupted::-webkit-progress-bar {\n",
       "        background: #F44336;\n",
       "    }\n",
       "</style>\n"
      ],
      "text/plain": [
       "<IPython.core.display.HTML object>"
      ]
     },
     "metadata": {},
     "output_type": "display_data"
    },
    {
     "data": {
      "text/html": [
       "<table border=\"1\" class=\"dataframe\">\n",
       "  <thead>\n",
       "    <tr style=\"text-align: left;\">\n",
       "      <th>epoch</th>\n",
       "      <th>train_loss</th>\n",
       "      <th>valid_loss</th>\n",
       "      <th>error_rate</th>\n",
       "      <th>time</th>\n",
       "    </tr>\n",
       "  </thead>\n",
       "  <tbody>\n",
       "    <tr>\n",
       "      <td>0</td>\n",
       "      <td>0.103024</td>\n",
       "      <td>0.221607</td>\n",
       "      <td>0.064334</td>\n",
       "      <td>02:07</td>\n",
       "    </tr>\n",
       "    <tr>\n",
       "      <td>1</td>\n",
       "      <td>0.103737</td>\n",
       "      <td>0.216469</td>\n",
       "      <td>0.062077</td>\n",
       "      <td>02:07</td>\n",
       "    </tr>\n",
       "    <tr>\n",
       "      <td>2</td>\n",
       "      <td>0.088264</td>\n",
       "      <td>0.238825</td>\n",
       "      <td>0.072235</td>\n",
       "      <td>02:07</td>\n",
       "    </tr>\n",
       "    <tr>\n",
       "      <td>3</td>\n",
       "      <td>0.086240</td>\n",
       "      <td>0.236222</td>\n",
       "      <td>0.073363</td>\n",
       "      <td>02:08</td>\n",
       "    </tr>\n",
       "    <tr>\n",
       "      <td>4</td>\n",
       "      <td>0.075979</td>\n",
       "      <td>0.228707</td>\n",
       "      <td>0.067720</td>\n",
       "      <td>02:07</td>\n",
       "    </tr>\n",
       "    <tr>\n",
       "      <td>5</td>\n",
       "      <td>0.080227</td>\n",
       "      <td>0.225265</td>\n",
       "      <td>0.063205</td>\n",
       "      <td>02:07</td>\n",
       "    </tr>\n",
       "    <tr>\n",
       "      <td>6</td>\n",
       "      <td>0.065874</td>\n",
       "      <td>0.223893</td>\n",
       "      <td>0.057562</td>\n",
       "      <td>02:07</td>\n",
       "    </tr>\n",
       "    <tr>\n",
       "      <td>7</td>\n",
       "      <td>0.069240</td>\n",
       "      <td>0.198780</td>\n",
       "      <td>0.059819</td>\n",
       "      <td>02:07</td>\n",
       "    </tr>\n",
       "    <tr>\n",
       "      <td>8</td>\n",
       "      <td>0.057916</td>\n",
       "      <td>0.231968</td>\n",
       "      <td>0.059819</td>\n",
       "      <td>02:07</td>\n",
       "    </tr>\n",
       "    <tr>\n",
       "      <td>9</td>\n",
       "      <td>0.048642</td>\n",
       "      <td>0.204715</td>\n",
       "      <td>0.050790</td>\n",
       "      <td>02:07</td>\n",
       "    </tr>\n",
       "    <tr>\n",
       "      <td>10</td>\n",
       "      <td>0.037888</td>\n",
       "      <td>0.218070</td>\n",
       "      <td>0.059819</td>\n",
       "      <td>02:07</td>\n",
       "    </tr>\n",
       "    <tr>\n",
       "      <td>11</td>\n",
       "      <td>0.026603</td>\n",
       "      <td>0.238745</td>\n",
       "      <td>0.066591</td>\n",
       "      <td>02:08</td>\n",
       "    </tr>\n",
       "    <tr>\n",
       "      <td>12</td>\n",
       "      <td>0.025238</td>\n",
       "      <td>0.234080</td>\n",
       "      <td>0.064334</td>\n",
       "      <td>02:07</td>\n",
       "    </tr>\n",
       "    <tr>\n",
       "      <td>13</td>\n",
       "      <td>0.021984</td>\n",
       "      <td>0.221233</td>\n",
       "      <td>0.059819</td>\n",
       "      <td>02:07</td>\n",
       "    </tr>\n",
       "    <tr>\n",
       "      <td>14</td>\n",
       "      <td>0.021777</td>\n",
       "      <td>0.216439</td>\n",
       "      <td>0.058691</td>\n",
       "      <td>02:07</td>\n",
       "    </tr>\n",
       "    <tr>\n",
       "      <td>15</td>\n",
       "      <td>0.017882</td>\n",
       "      <td>0.211441</td>\n",
       "      <td>0.062077</td>\n",
       "      <td>02:07</td>\n",
       "    </tr>\n",
       "    <tr>\n",
       "      <td>16</td>\n",
       "      <td>0.014100</td>\n",
       "      <td>0.211722</td>\n",
       "      <td>0.056433</td>\n",
       "      <td>02:07</td>\n",
       "    </tr>\n",
       "    <tr>\n",
       "      <td>17</td>\n",
       "      <td>0.014334</td>\n",
       "      <td>0.218035</td>\n",
       "      <td>0.058691</td>\n",
       "      <td>02:07</td>\n",
       "    </tr>\n",
       "  </tbody>\n",
       "</table>"
      ],
      "text/plain": [
       "<IPython.core.display.HTML object>"
      ]
     },
     "metadata": {},
     "output_type": "display_data"
    },
    {
     "data": {
      "text/html": [
       "Waiting for W&B process to finish... <strong style=\"color:green\">(success).</strong>"
      ],
      "text/plain": [
       "<IPython.core.display.HTML object>"
      ]
     },
     "metadata": {},
     "output_type": "display_data"
    },
    {
     "data": {
      "application/vnd.jupyter.widget-view+json": {
       "model_id": "",
       "version_major": 2,
       "version_minor": 0
      },
      "text/plain": [
       "VBox(children=(Label(value='0.801 MB of 0.801 MB uploaded (0.780 MB deduped)\\r'), FloatProgress(value=1.0, max…"
      ]
     },
     "metadata": {},
     "output_type": "display_data"
    },
    {
     "data": {
      "text/html": [
       "W&B sync reduced upload amount by 96.4%             "
      ],
      "text/plain": [
       "<IPython.core.display.HTML object>"
      ]
     },
     "metadata": {},
     "output_type": "display_data"
    },
    {
     "data": {
      "text/html": [
       "<style>\n",
       "    table.wandb td:nth-child(1) { padding: 0 10px; text-align: left ; width: auto;} td:nth-child(2) {text-align: left ; width: 100%}\n",
       "    .wandb-row { display: flex; flex-direction: row; flex-wrap: wrap; justify-content: flex-start; width: 100% }\n",
       "    .wandb-col { display: flex; flex-direction: column; flex-basis: 100%; flex: 1; padding: 10px; }\n",
       "    </style>\n",
       "<div class=\"wandb-row\"><div class=\"wandb-col\"><h3>Run history:</h3><br/><table class=\"wandb\"><tr><td>best_value</td><td>█▄▃▃▃▃▃▃▂▂▂▁▁▁▁▁▁▁▁▁</td></tr><tr><td>epoch</td><td>▁▁▂▂▂▂▂▂▃▃▃▃▃▄▄▄▄▄▄▅▅▅▅▅▅▆▆▆▆▆▆▇▇▇▇▇▇███</td></tr><tr><td>eps_0</td><td>▁▁▁▁▁▁▁▁▁▁▁▁▁▁▁▁▁▁▁▁▁▁▁▁▁▁▁▁▁▁▁▁▁▁▁▁▁▁▁▁</td></tr><tr><td>eps_1</td><td>▁▁▁▁▁▁▁▁▁▁▁▁▁▁▁▁▁▁▁▁▁▁▁▁▁▁▁▁▁▁▁▁▁▁▁▁▁▁▁▁</td></tr><tr><td>error_rate</td><td>█▄▃▃▄▅▄▃▂▂▂▁▂▄▃▂▂▃▂▂</td></tr><tr><td>lr_0</td><td>█▆▁▁▁▁▁▁▁▁▁▁▁▁▁▁▁▁▁▁▁▁▁▁▁▁▁▁▁▁▁▁▁▁▁▁▁▁▁▁</td></tr><tr><td>lr_1</td><td>█▆▁▁▂▃▄▅▆▆▇▇▇▇▇▇▇▇▆▆▆▆▅▅▄▄▄▃▃▃▃▂▂▂▂▁▁▁▁▁</td></tr><tr><td>mom_0</td><td>▂▄██▇▆▅▄▃▂▁▁▁▁▁▁▁▂▂▂▃▃▃▄▄▄▅▅▅▆▆▇▇▇▇█████</td></tr><tr><td>mom_1</td><td>▂▄██▇▆▅▄▃▂▁▁▁▁▁▁▁▂▂▂▃▃▃▄▄▄▅▅▅▆▆▇▇▇▇█████</td></tr><tr><td>raw_loss</td><td>▄▄▇▅▂▇▆▂▂▂▂▂▄▂█▂▁▂▁▁▂▁▁▃▁▁▄▁▁▂▁▁▂▁▁▁▁▁▂▁</td></tr><tr><td>sqr_mom_0</td><td>▁▁▁▁▁▁▁▁▁▁▁▁▁▁▁▁▁▁▁▁▁▁▁▁▁▁▁▁▁▁▁▁▁▁▁▁▁▁▁▁</td></tr><tr><td>sqr_mom_1</td><td>▁▁▁▁▁▁▁▁▁▁▁▁▁▁▁▁▁▁▁▁▁▁▁▁▁▁▁▁▁▁▁▁▁▁▁▁▁▁▁▁</td></tr><tr><td>train_loss</td><td>█▆▅▄▄▄▄▃▃▃▃▃▃▃▃▃▃▃▃▃▂▂▂▂▂▂▂▁▁▁▁▁▁▁▁▁▁▁▁▁</td></tr><tr><td>train_samples_per_sec</td><td>███▁▁▁▁▁▁▁▁▁▁▁▁▁▁▁▁▁▁▁▁▁▁▁▁▁▁▁▁▁▁▁▁▁▁▁▁▁</td></tr><tr><td>valid_loss</td><td>█▄▃▃▄▄▄▃▃▁▄▂▃▄▄▃▃▂▂▃</td></tr><tr><td>wd_0</td><td>▁▁▁▁▁▁▁▁▁▁▁▁▁▁▁▁▁▁▁▁▁▁▁▁▁▁▁▁▁▁▁▁▁▁▁▁▁▁▁▁</td></tr><tr><td>wd_1</td><td>▁▁▁▁▁▁▁▁▁▁▁▁▁▁▁▁▁▁▁▁▁▁▁▁▁▁▁▁▁▁▁▁▁▁▁▁▁▁▁▁</td></tr></table><br/></div><div class=\"wandb-col\"><h3>Run summary:</h3><br/><table class=\"wandb\"><tr><td>best_value</td><td>0.05079</td></tr><tr><td>epoch</td><td>20</td></tr><tr><td>eps_0</td><td>1e-05</td></tr><tr><td>eps_1</td><td>1e-05</td></tr><tr><td>error_rate</td><td>0.05869</td></tr><tr><td>lr_0</td><td>0.0</td></tr><tr><td>lr_1</td><td>0.0</td></tr><tr><td>mom_0</td><td>0.95</td></tr><tr><td>mom_1</td><td>0.95</td></tr><tr><td>raw_loss</td><td>0.00067</td></tr><tr><td>sqr_mom_0</td><td>0.99</td></tr><tr><td>sqr_mom_1</td><td>0.99</td></tr><tr><td>train_loss</td><td>0.01433</td></tr><tr><td>train_samples_per_sec</td><td>12.40074</td></tr><tr><td>valid_loss</td><td>0.21803</td></tr><tr><td>wd_0</td><td>0.01</td></tr><tr><td>wd_1</td><td>0.01</td></tr></table><br/></div></div>"
      ],
      "text/plain": [
       "<IPython.core.display.HTML object>"
      ]
     },
     "metadata": {},
     "output_type": "display_data"
    },
    {
     "data": {
      "text/html": [
       "Synced <strong style=\"color:#cdcd00\">dutiful-sweep-11</strong>: <a href=\"https://wandb.ai/mark_b2/my_fastbook/runs/maocwvq0\" target=\"_blank\">https://wandb.ai/mark_b2/my_fastbook/runs/maocwvq0</a><br/>Synced 4 W&B file(s), 2 media file(s), 38 artifact file(s) and 0 other file(s)"
      ],
      "text/plain": [
       "<IPython.core.display.HTML object>"
      ]
     },
     "metadata": {},
     "output_type": "display_data"
    },
    {
     "data": {
      "text/html": [
       "Find logs at: <code>./wandb/run-20220823_095937-maocwvq0/logs</code>"
      ],
      "text/plain": [
       "<IPython.core.display.HTML object>"
      ]
     },
     "metadata": {},
     "output_type": "display_data"
    },
    {
     "name": "stderr",
     "output_type": "stream",
     "text": [
      "\u001b[34m\u001b[1mwandb\u001b[0m: Agent Starting Run: lvix6lzw with config:\n",
      "\u001b[34m\u001b[1mwandb\u001b[0m: \tarch: convnext_tiny_in22k_stage0.pth\n",
      "\u001b[34m\u001b[1mwandb\u001b[0m: \tepochs: 20\n",
      "\u001b[34m\u001b[1mwandb\u001b[0m: \tpost_bs: 32\n",
      "\u001b[34m\u001b[1mwandb\u001b[0m: \tpost_div: 235\n",
      "\u001b[34m\u001b[1mwandb\u001b[0m: \tpost_lr: 0.0017460090397006826\n",
      "\u001b[34m\u001b[1mwandb\u001b[0m: \tpost_size: 224\n",
      "\u001b[34m\u001b[1mwandb\u001b[0m: \tpre_bs: 64\n",
      "\u001b[34m\u001b[1mwandb\u001b[0m: \tpre_epoch: 2\n",
      "\u001b[34m\u001b[1mwandb\u001b[0m: \tpre_lr: 0.0014202792238828437\n",
      "\u001b[34m\u001b[1mwandb\u001b[0m: \tpre_size: 320\n"
     ]
    },
    {
     "data": {
      "text/html": [
       "wandb version 0.13.2 is available!  To upgrade, please run:\n",
       " $ pip install wandb --upgrade"
      ],
      "text/plain": [
       "<IPython.core.display.HTML object>"
      ]
     },
     "metadata": {},
     "output_type": "display_data"
    },
    {
     "data": {
      "text/html": [
       "Tracking run with wandb version 0.13.1"
      ],
      "text/plain": [
       "<IPython.core.display.HTML object>"
      ]
     },
     "metadata": {},
     "output_type": "display_data"
    },
    {
     "data": {
      "text/html": [
       "Run data is saved locally in <code>/notebooks/fastbook/clean/wandb/run-20220823_104025-lvix6lzw</code>"
      ],
      "text/plain": [
       "<IPython.core.display.HTML object>"
      ]
     },
     "metadata": {},
     "output_type": "display_data"
    },
    {
     "data": {
      "text/html": [
       "Syncing run <strong><a href=\"https://wandb.ai/mark_b2/my_fastbook/runs/lvix6lzw\" target=\"_blank\">eternal-sweep-12</a></strong> to <a href=\"https://wandb.ai/mark_b2/my_fastbook\" target=\"_blank\">Weights & Biases</a> (<a href=\"https://wandb.me/run\" target=\"_blank\">docs</a>)<br/>Sweep page:  <a href=\"https://wandb.ai/mark_b2/my_fastbook/sweeps/uiujoqnj\" target=\"_blank\">https://wandb.ai/mark_b2/my_fastbook/sweeps/uiujoqnj</a>"
      ],
      "text/plain": [
       "<IPython.core.display.HTML object>"
      ]
     },
     "metadata": {},
     "output_type": "display_data"
    },
    {
     "data": {
      "text/html": [
       "\n",
       "<style>\n",
       "    /* Turns off some styling */\n",
       "    progress {\n",
       "        /* gets rid of default border in Firefox and Opera. */\n",
       "        border: none;\n",
       "        /* Needs to be in here for Safari polyfill so background images work as expected. */\n",
       "        background-size: auto;\n",
       "    }\n",
       "    .progress-bar-interrupted, .progress-bar-interrupted::-webkit-progress-bar {\n",
       "        background: #F44336;\n",
       "    }\n",
       "</style>\n"
      ],
      "text/plain": [
       "<IPython.core.display.HTML object>"
      ]
     },
     "metadata": {},
     "output_type": "display_data"
    },
    {
     "data": {
      "text/html": [
       "<table border=\"1\" class=\"dataframe\">\n",
       "  <thead>\n",
       "    <tr style=\"text-align: left;\">\n",
       "      <th>epoch</th>\n",
       "      <th>train_loss</th>\n",
       "      <th>valid_loss</th>\n",
       "      <th>error_rate</th>\n",
       "      <th>time</th>\n",
       "    </tr>\n",
       "  </thead>\n",
       "  <tbody>\n",
       "    <tr>\n",
       "      <td>0</td>\n",
       "      <td>0.188915</td>\n",
       "      <td>0.260907</td>\n",
       "      <td>0.088036</td>\n",
       "      <td>01:09</td>\n",
       "    </tr>\n",
       "    <tr>\n",
       "      <td>1</td>\n",
       "      <td>0.152932</td>\n",
       "      <td>0.232693</td>\n",
       "      <td>0.069977</td>\n",
       "      <td>01:09</td>\n",
       "    </tr>\n",
       "  </tbody>\n",
       "</table>"
      ],
      "text/plain": [
       "<IPython.core.display.HTML object>"
      ]
     },
     "metadata": {},
     "output_type": "display_data"
    },
    {
     "data": {
      "text/html": [
       "\n",
       "<style>\n",
       "    /* Turns off some styling */\n",
       "    progress {\n",
       "        /* gets rid of default border in Firefox and Opera. */\n",
       "        border: none;\n",
       "        /* Needs to be in here for Safari polyfill so background images work as expected. */\n",
       "        background-size: auto;\n",
       "    }\n",
       "    .progress-bar-interrupted, .progress-bar-interrupted::-webkit-progress-bar {\n",
       "        background: #F44336;\n",
       "    }\n",
       "</style>\n"
      ],
      "text/plain": [
       "<IPython.core.display.HTML object>"
      ]
     },
     "metadata": {},
     "output_type": "display_data"
    },
    {
     "data": {
      "text/html": [
       "\n",
       "    <div>\n",
       "      <progress value='13' class='' max='18' style='width:300px; height:20px; vertical-align: middle;'></progress>\n",
       "      72.22% [13/18 27:32<10:35]\n",
       "    </div>\n",
       "    \n",
       "<table border=\"1\" class=\"dataframe\">\n",
       "  <thead>\n",
       "    <tr style=\"text-align: left;\">\n",
       "      <th>epoch</th>\n",
       "      <th>train_loss</th>\n",
       "      <th>valid_loss</th>\n",
       "      <th>error_rate</th>\n",
       "      <th>time</th>\n",
       "    </tr>\n",
       "  </thead>\n",
       "  <tbody>\n",
       "    <tr>\n",
       "      <td>0</td>\n",
       "      <td>0.106530</td>\n",
       "      <td>0.218229</td>\n",
       "      <td>0.063205</td>\n",
       "      <td>02:07</td>\n",
       "    </tr>\n",
       "    <tr>\n",
       "      <td>1</td>\n",
       "      <td>0.106331</td>\n",
       "      <td>0.220704</td>\n",
       "      <td>0.062077</td>\n",
       "      <td>02:07</td>\n",
       "    </tr>\n",
       "    <tr>\n",
       "      <td>2</td>\n",
       "      <td>0.092160</td>\n",
       "      <td>0.244519</td>\n",
       "      <td>0.075621</td>\n",
       "      <td>02:07</td>\n",
       "    </tr>\n",
       "    <tr>\n",
       "      <td>3</td>\n",
       "      <td>0.095711</td>\n",
       "      <td>0.247330</td>\n",
       "      <td>0.072235</td>\n",
       "      <td>02:07</td>\n",
       "    </tr>\n",
       "    <tr>\n",
       "      <td>4</td>\n",
       "      <td>0.086628</td>\n",
       "      <td>0.223163</td>\n",
       "      <td>0.060948</td>\n",
       "      <td>02:07</td>\n",
       "    </tr>\n",
       "    <tr>\n",
       "      <td>5</td>\n",
       "      <td>0.083088</td>\n",
       "      <td>0.237164</td>\n",
       "      <td>0.066591</td>\n",
       "      <td>02:07</td>\n",
       "    </tr>\n",
       "    <tr>\n",
       "      <td>6</td>\n",
       "      <td>0.069311</td>\n",
       "      <td>0.268579</td>\n",
       "      <td>0.067720</td>\n",
       "      <td>02:07</td>\n",
       "    </tr>\n",
       "    <tr>\n",
       "      <td>7</td>\n",
       "      <td>0.083896</td>\n",
       "      <td>0.208462</td>\n",
       "      <td>0.050790</td>\n",
       "      <td>02:07</td>\n",
       "    </tr>\n",
       "    <tr>\n",
       "      <td>8</td>\n",
       "      <td>0.067773</td>\n",
       "      <td>0.225103</td>\n",
       "      <td>0.055305</td>\n",
       "      <td>02:07</td>\n",
       "    </tr>\n",
       "    <tr>\n",
       "      <td>9</td>\n",
       "      <td>0.051368</td>\n",
       "      <td>0.208314</td>\n",
       "      <td>0.058691</td>\n",
       "      <td>02:07</td>\n",
       "    </tr>\n",
       "    <tr>\n",
       "      <td>10</td>\n",
       "      <td>0.040372</td>\n",
       "      <td>0.229598</td>\n",
       "      <td>0.065463</td>\n",
       "      <td>02:06</td>\n",
       "    </tr>\n",
       "    <tr>\n",
       "      <td>11</td>\n",
       "      <td>0.032715</td>\n",
       "      <td>0.236962</td>\n",
       "      <td>0.062077</td>\n",
       "      <td>02:07</td>\n",
       "    </tr>\n",
       "    <tr>\n",
       "      <td>12</td>\n",
       "      <td>0.035089</td>\n",
       "      <td>0.240485</td>\n",
       "      <td>0.060948</td>\n",
       "      <td>02:06</td>\n",
       "    </tr>\n",
       "  </tbody>\n",
       "</table><p>\n",
       "\n",
       "    <div>\n",
       "      <progress value='8' class='' max='41' style='width:300px; height:20px; vertical-align: middle;'></progress>\n",
       "      19.51% [8/41 00:21<01:29 0.0331]\n",
       "    </div>\n",
       "    "
      ],
      "text/plain": [
       "<IPython.core.display.HTML object>"
      ]
     },
     "metadata": {},
     "output_type": "display_data"
    }
   ],
   "source": [
    "count = 60\n",
    "\n",
    "wandb.agent(sweep_id, function=trainer2, count=count, project='my_fastbook')"
   ]
  },
  {
   "cell_type": "markdown",
   "id": "fa5dbaa4-f68b-48bb-a0aa-9c9d194d8812",
   "metadata": {},
   "source": [
    "## TODO Check if `learn.export` save WITH optimizer state?\n",
    "\n",
    "## Check if GradientAccumulation helps ??\n",
    "## Check if more fine learning rate splitting helps??\n",
    "## LabelSmoothing ??"
   ]
  },
  {
   "cell_type": "code",
   "execution_count": null,
   "id": "1111e345-80da-4098-a2a5-d17e83811365",
   "metadata": {},
   "outputs": [],
   "source": [
    "Learner.export"
   ]
  },
  {
   "cell_type": "code",
   "execution_count": null,
   "id": "0d59aa45-48fe-47df-83b9-4174d2b53809",
   "metadata": {},
   "outputs": [],
   "source": [
    "res_df = pd.read_csv('results.csv') #.loc[df.stage==0]\n",
    "by_valid = res_df.sort_values('valid', ascending=True)\n",
    "by_error = res_df.sort_values('error', ascending=True)"
   ]
  },
  {
   "cell_type": "code",
   "execution_count": null,
   "id": "977c7214-e968-497d-b4f7-b7090bba4003",
   "metadata": {},
   "outputs": [],
   "source": [
    "# df.drop(df.loc[df['div'] > 0].index, inplace=True)\n",
    "# df"
   ]
  },
  {
   "cell_type": "code",
   "execution_count": null,
   "id": "86310e12-4668-4067-9fbe-1e3e8de70135",
   "metadata": {},
   "outputs": [],
   "source": [
    "# df.to_csv('results.csv', index=False)"
   ]
  },
  {
   "cell_type": "code",
   "execution_count": null,
   "id": "77c0c503-372a-499d-b650-ce32b53c5b8f",
   "metadata": {},
   "outputs": [],
   "source": [
    "by_error.head()"
   ]
  },
  {
   "cell_type": "code",
   "execution_count": null,
   "id": "6d86aab3-aba1-4d72-ac36-d69017e51410",
   "metadata": {},
   "outputs": [],
   "source": [
    "by_valid.head()"
   ]
  },
  {
   "cell_type": "code",
   "execution_count": null,
   "id": "5c84d731-19a5-42f0-aac1-5bb63a589b5f",
   "metadata": {},
   "outputs": [],
   "source": [
    "learn = vision_learner(get_dls(bs=256), arch, metrics=error_rate)\n",
    "learn.fit_one_cycle(3, lr_max=4e-3)\n",
    "learn.unfreeze()\n",
    "learn.dls = get_dls(bs=192)\n",
    "learn.fit_one_cycle(10, lr_max=(4e-5,4e-3))"
   ]
  },
  {
   "cell_type": "code",
   "execution_count": null,
   "id": "8982de70-92de-4623-b4cf-db498e5e305c",
   "metadata": {},
   "outputs": [],
   "source": [
    "wandb.init(project='fastbook', config=sweep_cfg)\n",
    "arch = 'convnext_tiny_in22k'\n",
    "learn = load_learner(arch+'_160_112_3_003_stage0.pth')\n",
    "learn.unfreeze()\n",
    "learn.dls = get_dls(bs=wandb.config.post_bs)\n",
    "learn.add_cb(WandbCallback())\n",
    "learn.fit_one_cycle(3, lr_max=(4e-5,4e-3))"
   ]
  },
  {
   "cell_type": "code",
   "execution_count": null,
   "id": "0a4021bd-be8f-41a8-b07c-e39df5bcf9b1",
   "metadata": {},
   "outputs": [],
   "source": [
    "learn = vision_learner(get_dls(bs=256), arch, metrics=error_rate)\n",
    "learn.fit_one_cycle(3, lr_max=2e-3)\n",
    "learn.unfreeze()\n",
    "learn.dls = get_dls(bs=196)\n",
    "learn.fit_one_cycle(10, lr_max=(1e-5,1e-3))"
   ]
  },
  {
   "cell_type": "code",
   "execution_count": null,
   "id": "17f045e3-3407-4782-b8c7-2273d98e2028",
   "metadata": {},
   "outputs": [],
   "source": []
  },
  {
   "cell_type": "code",
   "execution_count": null,
   "id": "58677bf6-1f02-498d-a38e-7225d6d09937",
   "metadata": {},
   "outputs": [],
   "source": [
    "for lr in np.logspace(-3,-1.5,5):\n",
    "    lr = float(lr)\n",
    "    learn = vision_learner(get_dls(bs=256), arch, metrics=error_rate)\n",
    "    print(lr)\n",
    "    learn.fit_one_cycle(6, lr_max=lr, pct_start=.99)"
   ]
  },
  {
   "cell_type": "code",
   "execution_count": null,
   "id": "98415916-dd67-47c2-8a55-f2d2abc66f74",
   "metadata": {},
   "outputs": [],
   "source": [
    "learn = vision_learner(get_dls(bs=256), arch, metrics=error_rate)\n",
    "learn.fit_one_cycle(6, lr_max=.006)\n",
    "learn.path = Path('.')\n",
    "learn.export('convnext_nano_160_112_005_stage0.pth')"
   ]
  },
  {
   "cell_type": "code",
   "execution_count": null,
   "id": "53050df6-e749-4267-8fe6-48566d1ab6c6",
   "metadata": {},
   "outputs": [],
   "source": [
    "for dev in np.logspace(1,3,5):\n",
    "    for lr in [1e-3, 2e-3]:\n",
    "        dev = float(dev)\n",
    "        learn = load_learner('convnext_nano_160_112_005_stage0.pth')\n",
    "        learn.dls = get_dls(bs=256)\n",
    "        print(lr, dev)\n",
    "        learn.fit_one_cycle(16, lr_max=slice(lr/dev,lr))"
   ]
  },
  {
   "cell_type": "code",
   "execution_count": null,
   "id": "82445cde-375c-475b-8aa0-32f5449a4565",
   "metadata": {},
   "outputs": [],
   "source": [
    "learn = load_learner('convnext_nano_160_112_005_stage0.pth')\n",
    "learn.dls = get_dls(bs=256)\n",
    "learn.fit_one_cycle(16, lr_max=(1e-5,1e-3))"
   ]
  },
  {
   "cell_type": "code",
   "execution_count": null,
   "id": "c9ae72b9-a2b4-4eff-a617-26a6ae088c00",
   "metadata": {},
   "outputs": [],
   "source": [
    "for dev in np.logspace(1,3,5):\n",
    "    for lr in [1e-3, 2e-3]:\n",
    "        dev = float(dev)\n",
    "        learn = load_learner('convnext_nano_160_112_005_stage0.pth')\n",
    "        learn.dls = get_dls(bs=256)\n",
    "        print(lr, dev)\n",
    "        learn.fit_one_cycle(16, lr_max=slice(lr/dev,lr))"
   ]
  }
 ],
 "metadata": {
  "kernelspec": {
   "display_name": "Python 3 (ipykernel)",
   "language": "python",
   "name": "python3"
  }
 },
 "nbformat": 4,
 "nbformat_minor": 5
}
